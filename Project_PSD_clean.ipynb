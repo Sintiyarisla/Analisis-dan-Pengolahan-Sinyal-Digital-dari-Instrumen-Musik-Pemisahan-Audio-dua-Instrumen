{
 "cells": [
  {
   "cell_type": "markdown",
   "metadata": {
    "id": "8U1WR1nAUOV1"
   },
   "source": [
    "# **Analisis dan Pengolahan Sinyal Digital dari Instrumen Musik: Pemisahan Audio dua Instrumen dari Rekaman**\n",
    "##### Proyek ini adalah suatu proyek yang bertujuan untuk menganalisis dan mengolah sinyal digital dari rekaman musik, terutama dalam upaya memisahkan suara instrumen tertentu dari campuran suara dalam rekaman. Di dalam rekaman musik, suara berbagai instrumen biasanya bergabung menjadi satu saluran audio, sehingga sulit untuk mengisolasi suara satu instrumen saja tanpa terganggu oleh suara instrumen lainnya.\n",
    "\n",
    "Untuk mengatasi hal ini, proyek ini akan mengembangkan metode dan teknik pemrosesan sinyal yang mampu memisahkan suara instrumen tertentu.Selain itu, proyek ini bertujuan untuk memudahkan para pemusik dalam mengulik dan menganalisis instrumen yang mereka mainkan. Dengan adanya pemisahan suara yang lebih jelas, musisi dapat lebih mudah memahami komposisi dan elemen-elemen musik dalam rekaman, yang dapat membantu mereka dalam proses belajar, latihan, dan pengembangan keterampilan musikal. Hal ini akan sangat berguna untuk pengembangan keterampilan musikal, terutama dalam konteks latihan mandiri, pengajaran, dan kolaborasi antar musisi.\n",
    "\n",
    "Oleh karena itu, proyek ini tidak hanya berfokus pada pemisahan sinyal secara teknis, tetapi juga pada penciptaan peluang baru bagi musisi untuk berinteraksi dengan musik dengan cara yang lebih mendalam dan edukatif.\n",
    "##### **Sumber Data**: [rekaman audio](https://youtu.be/aeeNVqVj7SQ?si=ArIOg_1U4PU80cQd)\n",
    "\n",
    "\n",
    "##### **Kelompok 2**:\n",
    "1.   Putri Manika Rukmamaya (23031554091)\n",
    "2.   Monika Intan Puspitasari (23031554189)\n",
    "3.   Sintiya Risla Miftaqul Nikmah (23031554204)\n",
    "\n"
   ]
  },
  {
   "cell_type": "markdown",
   "metadata": {
    "id": "syfmLySSzBVJ"
   },
   "source": [
    "# **Akuisisi Data**"
   ]
  },
  {
   "cell_type": "code",
   "execution_count": null,
   "metadata": {
    "id": "sUxTbeZU0j08",
    "outputId": "4e4a977e-95e7-4d35-8229-8266883549a9"
   },
   "outputs": [],
   "source": [
    "import numpy as np\n",
    "import matplotlib.pyplot as plt\n",
    "import librosa\n",
    "\n",
    "# Mengambil data dari file audio\n",
    "filename = 'falling.mp3'\n",
    "audio_signal, sr = librosa.load(filename, sr=None)\n",
    "\n",
    "# Tampilkan sinyal\n",
    "plt.figure(figsize=(12, 6))\n",
    "plt.plot(audio_signal)\n",
    "plt.title('Sinyal Audio dari Instrumen Musik')\n",
    "plt.xlabel('Sampel')\n",
    "plt.ylabel('Amplitudo')\n",
    "plt.grid()\n",
    "plt.show()"
   ]
  },
  {
   "cell_type": "markdown",
   "metadata": {
    "id": "VOBA1E8_zGaw"
   },
   "source": [
    "```\n",
    "Berikan penjelasan tentang sinyal tersebut.\n",
    "\n",
    "*   Sinyal apakah itu?\n",
    "*   Bagaimana sinyal itu diperoleh? Sinyal tersebut menggambarkan kondisi apa?\n",
    "*   Informasi apa sajakah yang tersimpan pada sinyal tersebut\n",
    "*   Apa perbedaan sinyal dalam kondisi normal dan abnormal?\n",
    "```\n",
    "\n",
    "1. **Sinyal tersebut adalah sinyal audio** dalam domain waktu, yang menggambarkan perubahan amplitudo suara dari instrumen musik seperti double bass dan biola seiring waktu. Sinyal ini merupakan representasi digital dari gelombang suara yang dihasilkan oleh instrumen tersebut. Sinyal audio ini berisi informasi tentang frekuensi, amplitudo, dan durasi suara yang dihasilkan oleh instrumen double bass daan biola. Dalam visualisasi yang ditampilkan, setiap titik pada sumbu horizontal menunjukkan waktu (dalam hal ini sampel) selama rekaman berlangsung dan sumbu vertikal menunjukkan amplitudo sinyal suara pada titik waktu tersebut.\n",
    "\n",
    "2. **Sinyal audio yang diperoleh dari perekaman video** dihasilkan melalui mikrofon yang terpasang pada perangkat perekam, seperti kamera atau alat perekam video lainnya. Mikrofon ini berfungsi untuk menangkap gelombang suara yang datang dari lingkungan sekitar, termasuk suara instrumen musik seperti double bass dan biola. Ketika gelombang suara memasuki mikrofon, ia dikonversi menjadi sinyal listrik yang kemudian diproses oleh perangkat perekam. Setelah itu, sinyal listrik tersebut diubah menjadi sinyal digital melalui proses analog-to-digital conversion (ADC), yang mengubah informasi gelombang suara menjadi data yang dapat dipahami dan diproses oleh sistem komputer.\n",
    "\n",
    "3. **Sinyal ini menggambarkan gelombang suara** yang dihasilkan oleh instrumen musik double bass dan biola dalam sebuah rekaman musik. Dalam visualisasi yang ditampilkan, kita bisa melihat hubungan antara waktu dan amplitudo sinyal audio tersebut:\n",
    "- **Waktu atau sampel (Sumbu Horizontal)**: Setiap titik pada sumbu horizontal menunjukkan waktu yang berlalu selama rekaman berlangsung. Biasanya satu titik pada sumbu horizontal merujuk pada sebuah sampel audio pada waktu tertentu. Waktu ini biasanya dinyatakan dalam detik (saat menggunakan sampel rate).\n",
    "- **Amplitudo (Sumbu Vertikal)**: Sumbu vertikal menunjukkan amplitudo sinyal suara pada titik waktu tersebut. Amplitudo ini merepresentasikan volume atau kekuatan suara pada saat tertentu. Ketika amplitudo lebih tinggi, itu berarti suara lebih keras, sedangkan amplitudo yang lebih rendah berarti suara lebih lembut atau lebih diam.\n",
    "\n",
    "4. **Dari sinyal tersebut di dapat beberapa informasi seperti:**\n",
    "\n",
    "- **Amplitudo**: Menggambarkan kekuatan atau volume suara pada setiap titik waktu.\n",
    "\n",
    "- **Frekuensi**: Frekuensi suara yang dimainkan (dapat dijelaskan lebih lanjut menggunakan analisis spektral seperti Transformasi Fourier).\n",
    "\n",
    "- **Durasi**: Waktu keberlangsungan suara, baik secara keseluruhan maupun per bagian.\n",
    "\n",
    "- **Pitch** (Nada): Nada yang dimainkan oleh instrumen double bass daan biola dapat diketahui dari pola sinyal gelombang.\n",
    "\n",
    "5. **Perbedaan Sinyal dalam kondisi normal dan abnormal**:\n",
    "\n",
    "- Dalam kondisi **normal**, sinyal audio menunjukkan variasi amplitudo yang halus dan teratur, yang mencerminkan nada dan ritme yang dimainkan dalam musik. Ketika instrumen dimainkan, sinyal audio akan menunjukkan perubahan frekuensi yang sesuai dengan instrumen yang digunakan, seperti double bass dan biola. Variasi amplitudo ini berhubungan dengan volume suara. Dalam kondisi ini, gelombang suara terlihat halus dan teratur, menunjukkan bahwa suara yang dihasilkan oleh instrumen adalah jelas dan tidak terganggu oleh masalah teknis apapun.\n",
    "\n",
    "- Sebaliknya, dalam kondisi **abnormal**, sinyal audio dapat mengalami gangguan yang menyebabkan distorsi atau ketidaknormalan dalam gelombang suara. Gangguan ini bisa berupa bising (noise) atau ganguan yang muncul akibat masalah teknis seperti peralatan yang rusak, kabel yang buruk, atau masalah pada proses perekaman atau pemutaran. Gangguan ini menyebabkan gelombang suara menjadi tidak teratur, dengan bentuk yang berubah-ubah secara tiba-tiba dan seringkali tajam. Salah satu bentuk gangguan yang paling umum adalah clipping, yang terjadi ketika amplitudo sinyal melebihi batas maksimal yang dapat direkam atau diputar oleh perangkat. Clipping ini menghasilkan puncak amplitudo yang terdistorsi dan menyebabkan suara menjadi terpotong atau pecah, mengurangi kualitas audio secara signifikan."
   ]
  },
  {
   "cell_type": "markdown",
   "metadata": {
    "id": "Vne_H5I8yRQh"
   },
   "source": [
    "# **Visualisasi Sinyal**"
   ]
  },
  {
   "cell_type": "code",
   "execution_count": null,
   "metadata": {
    "colab": {
     "base_uri": "https://localhost:8080/",
     "height": 76
    },
    "id": "kSRSrfiOaKmq",
    "outputId": "f4aabdaf-2acb-46d4-a550-c03435f6e314"
   },
   "outputs": [],
   "source": [
    "from IPython.display import Audio\n",
    "\n",
    "# Path ke file audio\n",
    "file_path = 'falling.mp3'\n",
    "\n",
    "# Memutar audio\n",
    "Audio(file_path)"
   ]
  },
  {
   "cell_type": "markdown",
   "metadata": {
    "id": "Pq9ppLJ714iW"
   },
   "source": [
    "### Domain Waktu"
   ]
  },
  {
   "cell_type": "code",
   "execution_count": null,
   "metadata": {
    "colab": {
     "base_uri": "https://localhost:8080/",
     "height": 564
    },
    "id": "zQsuBwYSUNE0",
    "outputId": "f7a80d0a-942a-4b41-ef3e-7abbf72bf590"
   },
   "outputs": [],
   "source": [
    "# Import dan tampilkan sinyal tersebut di sini\n",
    "\n",
    "import numpy as np\n",
    "import matplotlib.pyplot as plt\n",
    "import librosa\n",
    "\n",
    "# Mengambil data dari file audio\n",
    "filename = 'falling.mp3'\n",
    "audio_signal, sr = librosa.load(filename, sr=None)\n",
    "\n",
    "# Tampilkan sinyal\n",
    "plt.figure(figsize=(12, 6))\n",
    "plt.plot(audio_signal)\n",
    "plt.title('Sinyal Audio dari Instrumen Musik')\n",
    "plt.xlabel('Sampel')\n",
    "plt.ylabel('Amplitudo')\n",
    "plt.grid()\n",
    "plt.show()"
   ]
  },
  {
   "cell_type": "markdown",
   "metadata": {
    "id": "FGGFPSYvVM6T"
   },
   "source": [
    "```\n",
    "Penjelasan untuk membaca plotting sinyal dalam domain waktu\n",
    "```\n",
    "Plot sinyal dalam domain waktu di atas menggambarkan bagaimana amplitudo sinyal audio berubah seiring waktu. Berikut adalah penjelasannya:\n",
    "\n",
    "1. Sumbu X (Sampel)\n",
    "Sumbu horizontal pada grafik ini mewakili sampel dalam sinyal audio. Setiap titik pada sumbu X adalah satu unit sampel dari data audio yang telah diproses. Jika sinyal direkam dengan frekuensi sampling tertentu, nilai pada sumbu X ini bisa dikonversi menjadi waktu dalam detik. Misalnya, jika frekuensi sampling adalah 44,100 Hz (yang biasa digunakan pada audio), maka setiap detik berisi 44,100 sampel. Dengan demikian, posisi sampel pada sumbu X menunjukkan urutan data amplitudo dari sinyal audio yang terekam.\n",
    "\n",
    "2. Sumbu Y (Amplitudo)\n",
    "Sumbu vertikal pada grafik ini menunjukkan amplitudo sinyal, yang merupakan ukuran intensitas atau kekuatan dari suara pada waktu tertentu. Amplitudo ini dapat berupa nilai positif atau negatif, yang menggambarkan variasi tekanan udara atau perubahan gelombang suara yang menghasilkan suara yang kita dengar. Nilai amplitudo yang lebih besar menggambarkan suara yang lebih keras, sedangkan nilai amplitudo yang lebih kecil menunjukkan suara yang lebih lembut.\n",
    "\n",
    "3. Bentuk Gelombang\n",
    "Pola naik-turun pada grafik menggambarkan variasi amplitudo yang terjadi seiring waktu. Bentuk gelombang ini mengandung informasi penting, seperti nada (pitch), intensitas suara, dan karakteristik harmonik. Misalnya, bagian dengan amplitudo besar (puncak pada grafik) menunjukkan bagian-bagian dengan volume suara lebih keras, sedangkan bagian dengan amplitudo kecil menunjukkan suara yang lebih lembut atau bahkan jeda dalam musik. Pola naik-turun ini mencerminkan perubahan suara yang kompleks dari instrumen musik yang terekam.\n",
    "\n",
    "4. Durasi\n",
    "Durasi sinyal dapat dihitung dengan membagi jumlah total sampel dengan frekuensi sampling. Jumlah sampel pada sinyal adalah 2,5 juta dan frekuensi sampling adalah 44,100 Hz, maka durasi sinyal audio tersebut dapat dihitung dengan rumus: 2.5 × 10^6 / 44,100 ≈ 57 detik. Durasi ini menunjukkan seberapa lama sinyal audio tersebut berlangsung dalam waktu nyata. Dengan kata lain, durasi adalah panjang waktu dari rekaman yang digambarkan oleh sinyal audio tersebut.\n"
   ]
  },
  {
   "cell_type": "markdown",
   "metadata": {
    "id": "SOQ3EnZWyZcP"
   },
   "source": [
    "### Domain Frekuensi"
   ]
  },
  {
   "cell_type": "code",
   "execution_count": null,
   "metadata": {
    "colab": {
     "base_uri": "https://localhost:8080/",
     "height": 564
    },
    "id": "tWrWc9y6V1eL",
    "outputId": "d57a6214-ccb9-42c4-af28-5543ff1f5fc8"
   },
   "outputs": [],
   "source": [
    "# Transformasikan sinyal tersebut ke dalam domain frekuensi\n",
    "# Gunakan modul scipy.fft\n",
    "from scipy.fft import fft\n",
    "\n",
    "# Transformasi Fourier\n",
    "N = len(audio_signal)\n",
    "yf = fft(audio_signal)\n",
    "xf = np.fft.fftfreq(N, 1 / sr)\n",
    "\n",
    "# Tampilkan spektrum frekuensi\n",
    "plt.figure(figsize=(12, 6))\n",
    "plt.plot(xf[:N // 2], 2.0 / N * np.abs(yf[:N // 2]))\n",
    "plt.title('Spektrum Frekuensi Sinyal Audio')\n",
    "plt.xlabel('Frekuensi (Hz)')\n",
    "plt.ylabel('Amplitudo')\n",
    "plt.grid()\n",
    "plt.show()"
   ]
  },
  {
   "cell_type": "markdown",
   "metadata": {
    "id": "mNDw8Z_dV76m"
   },
   "source": [
    "```\n",
    "Berikan penjelasan tentang informasi apa saja yang dapat diketahui dari hasil transformasi sinyal tersebut dalam domain frekuensi\n",
    "```\n",
    "\n",
    "Transformasi Fast Fourier Transform (FFT) adalah transformasi yang menguraikan sinyal menjadi komponen-komponen frekuensinya. Grafik spektrum ini menunjukkan bagaimana kekuatan sinyal (amplitudo) tersebar di berbagai frekuensi.\n",
    "\n",
    "1. **Frekuensi Dominan**\n",
    "    \n",
    "  Puncak-puncak yang tinggi pada bagian awal spektrum menunjukkan bahwa\n",
    "energi sinyal terkonsentrasi pada frekuensi rendah. Ini biasanya merupakan karakteristik dari suara-suara dengan nada dasar atau frekuensi fundamental yang kuat, dalam hal ini yaitu instrumen bass dan biola.\n",
    "  Dengan mengidentifikasi frekuensi-frekuensi yang memiliki amplitudo tinggi, kita bisa mengetahui nada atau pitch utama yang ada dalam sinyal.\n",
    "\n",
    "2. **Rentang Frekuensi Sinyal**\n",
    "  \n",
    "  Grafik menunjukkan bahwa sebagian besar energi sinyal berada di bawah 5000 Hz, dan setelahnya amplitudo cenderung menurun hingga mendekati nol. Hal ini menunjukkan bahwa sinyal memiliki frekuensi yang terbatas pada rentang ini.\n",
    "  Untuk musik, rentang ini umum pada banyak jenis instrumen. Ini juga menunjukkan bahwa frekuensi tinggi (>10,000 Hz) mungkin tidak terlalu signifikan dalam sinyal ini, atau bisa jadi hanya ada sedikit informasi pada frekuensi tersebut.\n",
    "\n",
    "3. **Kualitas dan Karakterisrik Sumber Suara**\n",
    "\n",
    "  Dari distribusi amplitudo pada frekuensi rendah hingga menengah,  Suara yang didominasi oleh frekuensi rendah biasanya berasal dari instrumen bass atau drum, sedangkan suara bernada tinggi cenderung berasal dari instrumen seperti biola atau seruling.\n",
    "  Dalam spektrum ini, karena amplitudo di frekuensi rendah sangat dominan, ini bisa mengindikasikan bahwa sinyal mungkin berasal dari instrumen dengan suara rendah atau sinyal suara manusia yang memiliki rentang frekuensi dasar di area tersebut.\n",
    "\n",
    "4. **Intensitas Sinyal**\n",
    "\n",
    "  Amplitudo pada sumbu y menunjukkan intensitas atau kekuatan sinyal pada setiap frekuensi. Dengan mengamati amplitudo ini, kita dapat mengetahui pada frekuensi mana sinyal memiliki energi paling besar. Semakin tinggi amplitudo pada frekuensi tertentu, semakin besar kontribusi frekuensi tersebut dalam sinyal asli.\n",
    "\n",
    "5. **Bandwith dan Spektrum SInyal**\n",
    "\n",
    "  Spektrum frekuensi ini juga mengindikasikan bandwidth sinyal, yaitu rentang frekuensi di mana energi sinyal terkonsentrasi. Sinyal dengan bandwidth rendah umumnya terdengar lebih \"mellow\" atau lebih terfokus pada frekuensi rendah, sementara sinyal dengan bandwidth lebar bisa terdengar lebih \"terbuka\" dan kaya akan komponen frekuensi tinggi.\n",
    "  Pemahaman mengenai bandwidth sinyal berguna dalam kompresi atau pengiriman sinyal, karena kita dapat membuang frekuensi yang tidak penting atau tidak memiliki energi berarti tanpa mengurangi kualitas secara signifikan.\n",
    "\n"
   ]
  },
  {
   "cell_type": "markdown",
   "metadata": {
    "id": "KoUpRQBzyeLj"
   },
   "source": [
    "# **Pra-Pemrosesan**"
   ]
  },
  {
   "cell_type": "markdown",
   "metadata": {
    "id": "oa33eyi1ytC9"
   },
   "source": [
    "```\n",
    "jelaskan langkah-langkah pra-pemrosesan yang diperlukan untuk mengolah sinyal tersebut. Misalkan filtering, normalisasi, dsb. Sesuaikan dengan kebutuhan tiap proyek.\n",
    "```\n",
    "\n",
    "Sebelum melakukan pemrosesan lebih lanjut pada sinyal audio, ada beberapa langkah pra-pemrosesan yangkami lakukan untuk memastikan bahwa sinyal tersebut siap untuk diproses dengan baik. Kami melakukan filtering dan normalisasi untuk proses pra-pemrosesan pada proyek ini. Langkah-langkah pra-pemrosesan ini membantu untuk meminimalkan gangguan dan distorsi pada sinyal yang akan dipisahkan.\n",
    "\n",
    "\n",
    "1. **Filtering**\n",
    "adalah teknik yang digunakan untuk memisahkan atau menghilangkan komponen frekuensi tertentu dalam sinyal audio. Tujuan dari filtering adalah untuk memastikan bahwa hanya komponen frekuensi yang relevan yang tetap ada, sementara komponen frekuensi lainnya dihilangkan. Pada proyek ini kami menggunakan teknik filtering digital dengan menggunakan **filter Butterworth** yang diterapkan pada sinyal audio. Filter Butterworth adalah jenis filter yang memiliki respons frekuensi yang sangat halus (tanpa ripple) di sekitar cutoff-nya, sehingga sangat cocok untuk aplikasi seperti ini di mana kita menginginkan transisi yang halus antara frekuensi yang dibatasi oleh filter. Selain itu, kami menggunakan dua jenis filter untuk memisahkan suara bass dan biola berdasarkan rentang frekuensinya.\n",
    "\n",
    "* **Low-pass Filter** untuk Double Bass: Filter jenis ini digunakan untuk memisahkan suara double bass dari sinyal campuran. Low-pass filter membiarkan frekuensi rendah (double bass) lewat dan menghilangkan frekuensi yang lebih tinggi, seperti suara biola. Kami memilih cutoff frequency untuk double bass yang berada di rentang frekuensi sekitar 150 Hz hingga 400 Hz, yang merupakan rentang frekuensi utama dari instrumen double bass. Filter Butterworth orde ke-4 digunakan dengan normalized_cutoff, yang merupakan nilai cutoff yang dinormalisasi dengan frekuensi Nyquist (setengah dari frekuensi sampling). Dengan filter ini, suara double bass akan tetap utuh, sementara suara biola yang berada di frekuensi lebih tinggi akan hilang.\n",
    "\n",
    "* **High-pass Filter** untuk Biola: Sebaliknya, filter high-pass digunakan untuk memisahkan suara biola dengan membiarkan frekuensi tinggi (biola) melalui dan menghilangkan suara double bass yang berada pada frekuensi lebih rendah. Filter ini akan memblokir frekuensi yang lebih rendah dari 2000 Hz yang umumnya terkait dengan suara double bass, sementara suara biola yang memiliki frekuensi lebih tinggi tetap dipertahankan. Sama seperti low-pass, filter high-pass juga menggunakan filter Butterworth orde ke-4 dengan cutoff yang telah dinormalisasi.\n",
    "\n",
    "Proses filtering ini membantu memisahkan dua instrumen tersebut dengan efektif, berdasarkan frekuensi masing-masing.\n",
    "\n",
    "2. **Normalisasi**\n",
    "Setelah melakukan filtering, langkah berikutnya adalah normalisasi sinyal audio. Normalisasi bertujuan untuk memastikan bahwa amplitudo sinyal berada dalam rentang yang dapat diterima, misalnya antara -1 dan 1. Hal ini penting agar sinyal tidak terlalu keras (yang bisa menyebabkan distorsi) atau terlalu lemah (yang bisa membuat audio sulit didengar).\n",
    "\n",
    "* Amplitudo yang terlalu rendah setelah pemisahan dapat menyebabkan suara yang sangat lemah dan kurang jelas. Misalnya, setelah pemisahan suara double bass atau biola dengan filtering, amplitudo pada sinyal yang dihasilkan seringkali menjadi kecil. Normalisasi memastikan bahwa amplitudo tersebut diperbesar kembali ke rentang yang optimal.\n",
    "\n",
    "* Amplitudo yang terlalu tinggi setelah pemisahan, di sisi lain, bisa menyebabkan clipping atau distorsi audio. Dengan normalisasi, kita mencegah sinyal mencapai level yang bisa menyebabkan kliping, menjaga kualitas audio tetap baik.\n",
    "\n",
    "Melalui normalisasi, kita dapat memastikan bahwa sinyal audio yang telah dipisahkan masih berada pada tingkat kekuatan suara yang dapat diterima tanpa kehilangan kualitas."
   ]
  },
  {
   "cell_type": "markdown",
   "metadata": {
    "id": "f2oiOZndz9MA"
   },
   "source": [
    "### Implementasi Code Filtering"
   ]
  },
  {
   "cell_type": "code",
   "execution_count": null,
   "metadata": {
    "colab": {
     "base_uri": "https://localhost:8080/",
     "height": 894
    },
    "id": "B-tHDhy2WK9k",
    "outputId": "093eaaf6-e627-4d8c-fccc-bae9438abf61"
   },
   "outputs": [],
   "source": [
    "import numpy as np\n",
    "import scipy.signal as signal\n",
    "import scipy.io.wavfile as wav\n",
    "import matplotlib.pyplot as plt\n",
    "from scipy.fft import fft, ifft, fftfreq\n",
    "import soundfile as sf\n",
    "\n",
    "# Fungsi untuk menerapkan filter\n",
    "def apply_filter(audio, sr, filter_type, cutoff):\n",
    "    nyquist = sr / 2\n",
    "    normalized_cutoff = cutoff / nyquist\n",
    "\n",
    "    if filter_type == \"lowpass\":\n",
    "        b, a = signal.butter(4, normalized_cutoff, btype=\"low\")\n",
    "    elif filter_type == \"highpass\":\n",
    "        b, a = signal.butter(4, normalized_cutoff, btype=\"high\")\n",
    "    else:\n",
    "        raise ValueError(\"Filter type harus 'lowpass' atau 'highpass'.\")\n",
    "\n",
    "    filtered_audio = signal.filtfilt(b, a, audio)\n",
    "    return filtered_audio\n",
    "\n",
    "# Baca file audio\n",
    "input_file = \"falling.mp3\"\n",
    "audio, sr = sf.read(input_file)\n",
    "\n",
    "# Pastikan audio mono\n",
    "if len(audio.shape) > 1:\n",
    "    audio = np.mean(audio, axis=1)\n",
    "\n",
    "# Pisahkan Bass dan Biola\n",
    "bass_audio = apply_filter(audio, sr, filter_type=\"lowpass\", cutoff=400)  # Low-pass untuk bass\n",
    "violin_audio = apply_filter(audio, sr, filter_type=\"highpass\", cutoff=2000)  # High-pass untuk biola\n",
    "\n",
    "# Simpan hasil\n",
    "sf.write(\"bass_filtering.wav\", bass_audio, sr)\n",
    "sf.write(\"violin_filtering.wav\", violin_audio, sr)\n",
    "\n",
    "print(\"Hasil telah berhasil di simpan\")\n",
    "\n",
    "# Visualisasi hasil dari filtering\n",
    "time = np.linspace(0, len(audio) / sr, num=len(audio))\n",
    "\n",
    "plt.figure(figsize=(12, 8))\n",
    "plt.subplot(3, 1, 1)\n",
    "plt.plot(time, audio, label=\"Campuran (Bass + Biola)\")\n",
    "plt.legend()\n",
    "plt.title(\"Campuran (Bass + Biola)\")\n",
    "\n",
    "plt.subplot(3, 1, 2)\n",
    "plt.plot(time, bass_audio, label=\"Bass (Low-pass Filter)\", color=\"r\")\n",
    "plt.legend()\n",
    "plt.title(\"Bass\")\n",
    "\n",
    "plt.subplot(3, 1, 3)\n",
    "plt.plot(time, violin_audio, label=\"Biola (High-pass Filter)\", color=\"g\")\n",
    "plt.legend()\n",
    "plt.title(\"Biola\")\n",
    "\n",
    "plt.tight_layout()\n",
    "plt.show()\n"
   ]
  },
  {
   "cell_type": "markdown",
   "metadata": {
    "id": "0iIHkpWd0j1J"
   },
   "source": [
    "Hasil Filtering Menggunakan **Butterworth**"
   ]
  },
  {
   "cell_type": "code",
   "execution_count": null,
   "metadata": {
    "id": "gAfMuks80j1K",
    "outputId": "a6c7a9d8-0253-4c3b-9d7f-b4482a445191"
   },
   "outputs": [],
   "source": [
    "from IPython.display import Audio, display\n",
    "\n",
    "# Path ke file audio\n",
    "file_path_1 = 'bass_filtering.wav'\n",
    "file_path_2 = 'violin_filtering.wav'\n",
    "# Membuat objek Audio untuk masing-masing file\n",
    "audio_1 = Audio(file_path_1)\n",
    "audio_2 = Audio(file_path_2)\n",
    "\n",
    "# Menampilkan pemutar audio untuk kedua file\n",
    "display(audio_1)\n",
    "display(audio_2)\n",
    "\n"
   ]
  },
  {
   "cell_type": "markdown",
   "metadata": {
    "id": "7kz1I1KV0B1M"
   },
   "source": [
    "### Implementasi Code Normalisasi"
   ]
  },
  {
   "cell_type": "code",
   "execution_count": null,
   "metadata": {
    "id": "AZSNyNbw0j1L",
    "outputId": "ad54f7d8-2995-4af5-8183-8a3d9dcb9fd6"
   },
   "outputs": [],
   "source": [
    "import numpy as np\n",
    "import matplotlib.pyplot as plt\n",
    "import soundfile as sf\n",
    "\n",
    "# Fungsi untuk normalisasi\n",
    "def normalize_audio(audio):\n",
    "    max_amplitude = np.max(np.abs(audio))\n",
    "    normalized_audio = audio / max_amplitude\n",
    "    return normalized_audio\n",
    "\n",
    "# Baca file audio asli (sebelum difilter)\n",
    "original_audio, sr = librosa.load(\"falling.mp3\", sr=None)\n",
    "\n",
    "# Baca file audio yang sudah difilter (hasil filter sebelumnya)\n",
    "bass_audio, sr = sf.read(\"bass_filtering.wav\")  # Bass hasil filter lowpass\n",
    "violin_audio, sr = sf.read(\"violin_filtering.wav\")  # Biola hasil filter highpass\n",
    "\n",
    "# Normalisasi hasil filtering\n",
    "bass_normalized = normalize_audio(bass_audio)\n",
    "violin_normalized = normalize_audio(violin_audio)\n",
    "\n",
    "# Simpan hasil normalisasi ke file audio baru\n",
    "sf.write(\"bass_norm.wav\", bass_normalized, sr)\n",
    "sf.write(\"violin_norm.wav\", violin_normalized, sr)\n",
    "\n",
    "print(\"Hasil normalisasi telah berhasil disimpan\")\n",
    "\n",
    "# Visualisasi hasil Normalisasi\n",
    "time = np.linspace(0, len(bass_audio) / sr, num=len(bass_audio))\n",
    "\n",
    "plt.figure(figsize=(12, 8))\n",
    "plt.subplot(3, 1, 1)\n",
    "plt.plot(time,  original_audio, label=\"Audio Asli\")\n",
    "plt.legend()\n",
    "plt.title(\"Sebelum Filtering dan Normalisasi\")\n",
    "\n",
    "plt.subplot(3, 1, 2)\n",
    "plt.plot(time, bass_normalized, label=\"Bass (Normalized)\", color=\"r\")\n",
    "plt.legend()\n",
    "plt.title(\"Bass (Normalized)\")\n",
    "\n",
    "plt.subplot(3, 1, 3)\n",
    "plt.plot(time, violin_normalized, label=\"Violin (Normalized)\", color=\"g\")\n",
    "plt.legend()\n",
    "plt.title(\"Biola (Normalized)\")\n",
    "\n",
    "plt.tight_layout()\n",
    "plt.show()\n"
   ]
  },
  {
   "cell_type": "markdown",
   "metadata": {
    "id": "0-s84BkV0j1L"
   },
   "source": [
    "Hasil Normalisasi"
   ]
  },
  {
   "cell_type": "code",
   "execution_count": null,
   "metadata": {
    "id": "s_yXhj590j1M",
    "outputId": "30d1ba4b-a360-443f-e561-7cfec049623a"
   },
   "outputs": [],
   "source": [
    "from IPython.display import Audio, display\n",
    "\n",
    "# Path ke file audio\n",
    "file_path_1 = 'bass_norm.wav'\n",
    "file_path_2 = 'violin_norm.wav'\n",
    "# Membuat objek Audio untuk masing-masing file\n",
    "audio_1 = Audio(file_path_1)\n",
    "audio_2 = Audio(file_path_2)\n",
    "\n",
    "# Menampilkan pemutar audio untuk kedua file\n",
    "display(audio_1)\n",
    "display(audio_2)\n",
    "\n"
   ]
  },
  {
   "cell_type": "markdown",
   "metadata": {
    "id": "5X30JgGb0Hqm"
   },
   "source": [
    "# **Ekstraksi Fitur**"
   ]
  },
  {
   "cell_type": "markdown",
   "metadata": {
    "id": "nesrJVry0LQG"
   },
   "source": [
    "```\n",
    "Jelaskan fitur apa yang ingin diekstraksi dan mengapa. Berikan statement pendukung dari artikel terkait\n",
    "```"
   ]
  },
  {
   "cell_type": "markdown",
   "metadata": {
    "id": "DOxFPzbHsCtn"
   },
   "source": [
    "Fitur yang kami ekstrasi untuk proyek ini yaitu Zero-Crossing Rate (ZCR) dan Spectral Centroid. Adapun penjelasan dan alasan kami memilih fitur ini sebagai berikut:\n",
    "\n",
    "1. **Zero-Crossing Rate (ZCR)** - **Domain Waktu**\n",
    "\n",
    "  ZCR mengukur seberapa sering sinyal audio melewati sumbu nol (dari positif ke negatif atau sebaliknya) dalam suatu interval waktu. Nilai ZCR mencerminkan frekuensi osilasi atau ritme sinyal audio.\n",
    "\n",
    "  **Alasan:**\n",
    "  - Bass memiliki frekuensi rendah dan perubahan amplitudo yang lebih lambat,\n",
    "  menghasilkan ZCR yang rendah.\n",
    "  - Biola memiliki frekuensi tinggi dan osilasi cepat, menghasilkan ZCR yang lebih tinggi.\n",
    "  - Membantu membedakan tekstur temporal dari suara bass (frekuensi rendah dan crossing jarang) dan biola (frekuensi tinggi dengan crossing lebih sering).\n",
    "\n",
    "  **Statement Pendukung:** ZCR efektif untuk mendeteksi karakteristik suara impulsif dan kontinu, seperti dalam pengelompokan musik berbasis genre atau karakteristik suara​.\n",
    "\n",
    "\n",
    "2. **Spectral Centroid** - **Domain Frekuensi**\n",
    "\n",
    "  Spectral Centroid mengukur \"pusat massa\" spektrum frekuensi suatu sinyal audio. Nilai ini mencerminkan distribusi energi pada spektrum frekuensi, sering dikaitkan dengan persepsi kecerahan suara.\n",
    "\n",
    "  **Alasan:**\n",
    "  - Bass cenderung menghasilkan nada berat dan suara \"gelap\", sehingga memiliki spectral centroid yang rendah karena konsentrasi energinya (distribusi energi) berada pada frekuensi rendah.\n",
    "  - Biola cenderung menghasilkan nada tinggi dan suara \"terang\", sehingga distribusi energi biola berada pada frekuensi tinggi dan menyebabkan memiliki spektral centroid yang lebih tinggi.\n",
    "  - Membantu pemisahan instrumen berdasarkan karakteristik spektral mereka, seperti dominasi frekuensi rendah untuk bass dan frekuensi tinggi untuk biola.\n",
    "\n",
    "  **Statement Pendukung:** Dalam analisis musik dan pengenalan suara, spectral centroid digunakan untuk mengklasifikasikan instrumen berdasarkan spektrum frekuensinya dan telah terbukti efektif dalam membedakan instrumen dengan karakter spektral yang berbeda​.\n",
    "\n",
    "\n",
    "\n",
    "  #### **Link Sumber:**  [jurnal pendukung]( https://repository.unej.ac.id/bitstream/handle/123456789/99906/Moch%20Arifudin%20Syahrul%20Maulud151810201049_.pdf?sequence=1&isAllowed=y )"
   ]
  },
  {
   "cell_type": "code",
   "execution_count": null,
   "metadata": {
    "id": "DTXEaMyqBOhB"
   },
   "outputs": [],
   "source": [
    "import librosa\n",
    "import librosa.display\n",
    "import numpy as np\n",
    "import pandas as pd"
   ]
  },
  {
   "cell_type": "markdown",
   "metadata": {
    "id": "hjJkbBD20lpc"
   },
   "source": [
    "### Zero-Crossing Rate"
   ]
  },
  {
   "cell_type": "code",
   "execution_count": null,
   "metadata": {
    "colab": {
     "base_uri": "https://localhost:8080/"
    },
    "id": "W_LLjpfF0nBr",
    "outputId": "dc4e768c-a6a4-49ac-e731-49de06e0e0a6"
   },
   "outputs": [],
   "source": [
    "# Fungsi untuk ekstraksi Zero-Crossing Rate (ZCR)\n",
    "def extract_zcr(audio):\n",
    "    # Ekstraksi Zero-Crossing Rate (ZCR)\n",
    "    zcr = librosa.feature.zero_crossing_rate(audio)\n",
    "\n",
    "    # Menghitung rata-rata ZCR\n",
    "    zcr_mean = np.mean(zcr)\n",
    "\n",
    "    return zcr_mean\n",
    "\n",
    "# Menggunakan fungsi untuk bass dan biola\n",
    "bass_zcr = extract_zcr(bass_normalized)\n",
    "violin_zcr = extract_zcr(violin_normalized)\n",
    "\n",
    "# Menampilkan hasil ZCR\n",
    "print(\"Zero-Crossing Rate untuk Bass (Normalized):\", bass_zcr)\n",
    "print(\"Zero-Crossing Rate untuk Biola (Normalized):\", violin_zcr)"
   ]
  },
  {
   "cell_type": "code",
   "execution_count": null,
   "metadata": {
    "colab": {
     "base_uri": "https://localhost:8080/",
     "height": 564
    },
    "id": "8sDkX16Vp5qI",
    "outputId": "617e9721-bcae-46f0-b062-4d9db2420423"
   },
   "outputs": [],
   "source": [
    "# ZCR per frame untuk bass dan violin\n",
    "bass_zcr_per_frame = librosa.feature.zero_crossing_rate(bass_normalized)[0]\n",
    "violin_zcr_per_frame = librosa.feature.zero_crossing_rate(violin_normalized)[0]\n",
    "\n",
    "# Waktu per frame\n",
    "frames = range(len(bass_zcr_per_frame))\n",
    "times = librosa.frames_to_time(frames, sr=sr)\n",
    "\n",
    "# Plot ZCR\n",
    "plt.figure(figsize=(12, 6))\n",
    "plt.plot(times, bass_zcr_per_frame, label=\"Bass ZCR\", color=\"r\")\n",
    "plt.plot(times, violin_zcr_per_frame, label=\"Violin ZCR\", color=\"g\")\n",
    "plt.xlabel(\"Time (s)\")\n",
    "plt.ylabel(\"Zero-Crossing Rate\")\n",
    "plt.title(\"Zero-Crossing Rate (ZCR) Over Time\")\n",
    "plt.legend()\n",
    "plt.show()"
   ]
  },
  {
   "cell_type": "markdown",
   "metadata": {
    "id": "phKuuIZ80o3U"
   },
   "source": [
    "### Spectral Centroid\n"
   ]
  },
  {
   "cell_type": "code",
   "execution_count": null,
   "metadata": {
    "colab": {
     "base_uri": "https://localhost:8080/"
    },
    "id": "O1aDCPQb0qSP",
    "outputId": "5eeb61b9-1bae-419c-eca4-25d0c7d8f7e5"
   },
   "outputs": [],
   "source": [
    "# Fungsi untuk ekstraksi Spectral Centroid\n",
    "def extract_spectral_centroid(audio, sr):\n",
    "    # Ekstraksi Spectral Centroid\n",
    "    spectral_centroid = librosa.feature.spectral_centroid(y=audio, sr=sr)\n",
    "\n",
    "    # Menghitung rata-rata Spectral Centroid\n",
    "    spectral_centroid_mean = np.mean(spectral_centroid)\n",
    "\n",
    "    return spectral_centroid_mean\n",
    "\n",
    "# Menggunakan fungsi untuk bass dan biola\n",
    "bass_spectral_centroid = extract_spectral_centroid(bass_normalized, sr)\n",
    "violin_spectral_centroid = extract_spectral_centroid(violin_normalized, sr)\n",
    "\n",
    "# Menampilkan hasil Spectral Centroid\n",
    "print(\"Spectral Centroid untuk Bass (Normalized):\", bass_spectral_centroid)\n",
    "print(\"Spectral Centroid untuk Biola (Normalized):\", violin_spectral_centroid)"
   ]
  },
  {
   "cell_type": "code",
   "execution_count": null,
   "metadata": {
    "colab": {
     "base_uri": "https://localhost:8080/",
     "height": 564
    },
    "id": "8YQ8lHLfrfLA",
    "outputId": "c004c85f-728e-478d-ed73-c4820000a85a"
   },
   "outputs": [],
   "source": [
    "# Menghitung Spectral Centroid per frame\n",
    "bass_spectral_centroid_frames = librosa.feature.spectral_centroid(y=bass_normalized, sr=sr)[0]\n",
    "violin_spectral_centroid_frames = librosa.feature.spectral_centroid(y=violin_normalized, sr=sr)[0]\n",
    "\n",
    "# Waktu untuk setiap frame\n",
    "times = librosa.frames_to_time(range(len(bass_spectral_centroid_frames)), sr=sr)\n",
    "\n",
    "# Plot Spectral Centroid untuk Bass dan Violin\n",
    "plt.figure(figsize=(12, 6))\n",
    "\n",
    "plt.plot(times, bass_spectral_centroid_frames, label=\"Bass Spectral Centroid\", color=\"r\")\n",
    "plt.plot(times, violin_spectral_centroid_frames, label=\"Violin Spectral Centroid\", color=\"g\")\n",
    "\n",
    "plt.xlabel(\"Time (s)\")\n",
    "plt.ylabel(\"Spectral Centroid (Hz)\")\n",
    "plt.title(\"Spectral Centroid untuk Bass dan Violin\")\n",
    "plt.legend()\n",
    "plt.show()"
   ]
  },
  {
   "cell_type": "markdown",
   "metadata": {
    "id": "lRVY2M4z0sSG"
   },
   "source": [
    "# **Analisis**"
   ]
  },
  {
   "cell_type": "markdown",
   "metadata": {
    "id": "g53DriVT02M7"
   },
   "source": [
    "jelaskan langkah-langkah dan hasil analisis dari pengolahan sinyal tersebut. Analisis dapat berupa:\n",
    "*   Perbandingan kondisi normal dan abnormal\n",
    "*   Signal-to-Noise-Ratio\n",
    "*   Sinyal sebelum dan sesudah treatment\n",
    "*   dst\n",
    "\n",
    "sesuaikan dengan tujuan pengolahan sinyal\n",
    "\n"
   ]
  },
  {
   "cell_type": "markdown",
   "metadata": {
    "id": "ZRaGP5WL1ey8"
   },
   "source": [
    "### SIGNAL-TO-NOISE-RATIO"
   ]
  },
  {
   "cell_type": "code",
   "execution_count": null,
   "metadata": {
    "colab": {
     "base_uri": "https://localhost:8080/",
     "height": 916
    },
    "id": "WZWk2hX51eBD",
    "outputId": "00de4cde-f43e-44b5-b613-bfbd30094293"
   },
   "outputs": [],
   "source": [
    "import numpy as np\n",
    "import scipy.signal as signal\n",
    "import matplotlib.pyplot as plt\n",
    "from scipy.fft import fft, fftfreq\n",
    "import soundfile as sf\n",
    "\n",
    "# Fungsi untuk menerapkan filter\n",
    "def apply_filter(audio, sr, filter_type, cutoff):\n",
    "    nyquist = sr / 2\n",
    "    normalized_cutoff = cutoff / nyquist\n",
    "\n",
    "    if filter_type == \"lowpass\":\n",
    "        b, a = signal.butter(4, normalized_cutoff, btype=\"low\")\n",
    "    elif filter_type == \"highpass\":\n",
    "        b, a = signal.butter(4, normalized_cutoff, btype=\"high\")\n",
    "    else:\n",
    "        raise ValueError(\"Filter type harus 'lowpass' atau 'highpass'.\")\n",
    "\n",
    "    filtered_audio = signal.filtfilt(b, a, audio)\n",
    "    return filtered_audio\n",
    "\n",
    "# Fungsi untuk menghitung SNR\n",
    "def calculate_snr(original, filtered):\n",
    "    noise = original - filtered\n",
    "    signal_power = np.sum(filtered ** 2)\n",
    "    noise_power = np.sum(noise ** 2)\n",
    "    snr = 10 * np.log10(signal_power / noise_power)\n",
    "    return snr\n",
    "\n",
    "# Fungsi untuk menghitung energi sinyal\n",
    "def calculate_energy(audio):\n",
    "    return np.sum(audio ** 2)\n",
    "\n",
    "# Fungsi untuk menghitung spektrum frekuensi\n",
    "def calculate_spectrum(audio, sr):\n",
    "    N = len(audio)\n",
    "    freq = fftfreq(N, 1 / sr)\n",
    "    spectrum = np.abs(fft(audio)) / N\n",
    "    return freq[:N // 2], spectrum[:N // 2]\n",
    "\n",
    "# Baca file audio\n",
    "input_file = \"falling.mp3\"\n",
    "audio, sr = sf.read(input_file)\n",
    "\n",
    "# Pastikan audio mono\n",
    "if len(audio.shape) > 1:\n",
    "    audio = np.mean(audio, axis=1)\n",
    "\n",
    "# Pisahkan Bass dan Biola\n",
    "bass_audio = apply_filter(audio, sr, filter_type=\"lowpass\", cutoff=400)  # Low-pass untuk bass\n",
    "violin_audio = apply_filter(audio, sr, filter_type=\"highpass\", cutoff=2000)  # High-pass untuk biola\n",
    "\n",
    "# Analisis SNR\n",
    "bass_snr = calculate_snr(audio, bass_audio)\n",
    "violin_snr = calculate_snr(audio, violin_audio)\n",
    "\n",
    "# Analisis Energi\n",
    "original_energy = calculate_energy(audio)\n",
    "bass_energy = calculate_energy(bass_audio)\n",
    "violin_energy = calculate_energy(violin_audio)\n",
    "\n",
    "# Spektrum Frekuensi\n",
    "freq, original_spectrum = calculate_spectrum(audio, sr)\n",
    "_, bass_spectrum = calculate_spectrum(bass_audio, sr)\n",
    "_, violin_spectrum = calculate_spectrum(violin_audio, sr)\n",
    "\n",
    "# Cetak hasil analisis\n",
    "print(\"=== Analisis Sinyal ===\")\n",
    "print(f\"Energy Original: {original_energy:.2f}\")\n",
    "print(f\"Energy Bass: {bass_energy:.2f}\")\n",
    "print(f\"Energy Violin: {violin_energy:.2f}\")\n",
    "print(f\"SNR Bass: {bass_snr:.2f} dB\")\n",
    "print(f\"SNR Violin: {violin_snr:.2f} dB\")\n",
    "\n",
    "# Visualisasi Spektrum Frekuensi\n",
    "plt.figure(figsize=(12, 8))\n",
    "\n",
    "# Spektrum Sinyal Original\n",
    "plt.subplot(3, 1, 1)\n",
    "plt.plot(freq, original_spectrum, label=\"Original\", color=\"b\")\n",
    "plt.title(\"Spektrum Frekuensi - Original\")\n",
    "plt.xlabel(\"Frekuensi (Hz)\")\n",
    "plt.ylabel(\"Amplitudo\")\n",
    "plt.legend()\n",
    "\n",
    "# Spektrum Sinyal Bass\n",
    "plt.subplot(3, 1, 2)\n",
    "plt.plot(freq, bass_spectrum, label=\"Bass\", color=\"r\")\n",
    "plt.title(\"Spektrum Frekuensi - Bass\")\n",
    "plt.xlabel(\"Frekuensi (Hz)\")\n",
    "plt.ylabel(\"Amplitudo\")\n",
    "plt.legend()\n",
    "\n",
    "# Spektrum Sinyal Violin\n",
    "plt.subplot(3, 1, 3)\n",
    "plt.plot(freq, violin_spectrum, label=\"Violin\", color=\"g\")\n",
    "plt.title(\"Spektrum Frekuensi - Violin\")\n",
    "plt.xlabel(\"Frekuensi (Hz)\")\n",
    "plt.ylabel(\"Amplitudo\")\n",
    "plt.legend()\n",
    "\n",
    "plt.tight_layout()\n",
    "plt.show()\n"
   ]
  },
  {
   "cell_type": "markdown",
   "metadata": {
    "id": "-o5y20vzgLNY"
   },
   "source": [
    "Analisis Sinyal :\n",
    "1. Filtering **low-pass** dan **high-pass** berhasil memisahkan dua instrumen yang tumpang tindih dalam sinyal campuran, dengan bass terfokus pada frekuensi rendah dan biola pada frekuensi tinggi. Ini menunjukkan bahwa filtering efektif dalam isolasi instrumen berdasarkan karakteristik frekuensinya.\n",
    "\n",
    "2. Filtering meningkatkan kualitas sinyal dengan mengurangi noise. Nilai **SNR** yang tinggi setelah filtering menunjukkan bahwa komponen suara yang relevan (bass dan biola) berhasil dipertahankan, sementara noise diminimalisasi.\n",
    "\n",
    "3. Energi yang hilang pada frekuensi yang tidak relevan (terutama pada bass dan biola yang telah difilter) menunjukkan bahwa filtering berhasil mengisolasi komponen yang sesuai, meningkatkan kejelasan masing-masing instrumen.\n",
    "\n",
    "4. Setelah filtering, spektrum frekuensi menunjukkan pemisahan yang jelas antara bass (frekuensi rendah) dan biola (frekuensi tinggi). Ini mengindikasikan bahwa proses filtering berhasil memisahkan kedua instrumen berdasarkan frekuensinya dengan sangat baik.\n",
    "\n"
   ]
  },
  {
   "cell_type": "markdown",
   "metadata": {
    "id": "Eam91y2L1g5s"
   },
   "source": [
    "### Sinyal sebelum dan sesudah treatment"
   ]
  },
  {
   "cell_type": "code",
   "execution_count": null,
   "metadata": {
    "colab": {
     "base_uri": "https://localhost:8080/",
     "height": 717
    },
    "id": "VQcosmk5R3ql",
    "outputId": "907aca9b-45a9-422b-8e7c-a60afc0523d2"
   },
   "outputs": [],
   "source": [
    "# Sinyal Sebelum dan Sesudah Treatment\n",
    "time = np.linspace(0, len(audio) / sr, num=len(audio))\n",
    "\n",
    "plt.figure(figsize=(12, 8))\n",
    "\n",
    "# Plot Campuran (Bass + Biola)\n",
    "plt.plot(time, audio, label=\"Sebelum Treatment\", alpha=0.6)\n",
    "\n",
    "# Plot Bass (Low-pass Filter, Normalized)\n",
    "plt.plot(time, bass_normalized, label=\"Bass (Low-pass Filter, Normalized)\", color=\"r\")\n",
    "\n",
    "# Plot Biola (High-pass Filter, Normalized)\n",
    "plt.plot(time, violin_normalized, label=\"Biola (High-pass Filter, Normalized)\", color=\"g\")\n",
    "\n",
    "# Menambahkan legenda dan judul\n",
    "plt.legend()\n",
    "plt.title(\"Sinyal sebelum dan sesudah treatment\")\n",
    "\n",
    "# Menyesuaikan layout dan menampilkan plot\n",
    "plt.tight_layout()\n",
    "plt.show()"
   ]
  },
  {
   "cell_type": "markdown",
   "metadata": {
    "id": "PkjnIPrbXmJA"
   },
   "source": [
    "1. **Sinyal Sebelum Treatment (Campuran Asli)**\n",
    "- Sinyal berwarna biru dalam grafik adalah sinyal campuran asli yang mengandung kedua instrumen, yaitu bass dan biola, dalam satu file audio. Ini adalah sinyal yang belum diproses. Pada grafik ini, kita dapat melihat bentuk gelombang dari sinyal audio yang mencampurkan kedua instrumen. Kedua instrumen ini memiliki frekuensi yang sangat berbeda. Bass memiliki frekuensi rendah (biasanya di bawah 400 Hz), sedangkan biola memiliki frekuensi tinggi (di atas 2000 Hz). Tujuan dari grafik ini digunakan untuk menunjukkan bagaimana bentuk gelombang sinyal asli sebelum dilakukan pemrosesan lebih lanjut, seperti filtering atau normalisasi.\n",
    "\n",
    "2. **Sinyal Setelah Treatment (Filtering dan Normalisasi)**\n",
    "- Setelah proses filtering dan normalisasi, sinyal audio mengalami perubahan signifikan untuk meningkatkan kualitas dan memisahkan instrumen secara jelas. Filtering menggunakan low-pass filter dengan cutoff sekitar 400 Hz berhasil memisahkan suara bass dari sinyal campuran, menghilangkan frekuensi tinggi (biola) dan meninggalkan hanya komponen bass, yang biasanya lebih halus dan tidak berisik.\n",
    "- Di sisi lain, high-pass filter dengan cutoff sekitar 2000 Hz berhasil memisahkan suara biola, menghilangkan frekuensi rendah (bass) dan hanya membiarkan suara biola yang terdengar jelas. Namun, setelah proses pemisahan ini, amplitudo dari kedua sinyal (double bass dan biola) sering kali tidak seimbang dan bisa jadi sangat rendah.\n",
    "- Oleh karena itu, normalisasi diterapkan untuk memastikan bahwa amplitudo kedua sinyal berada dalam rentang optimal, meningkatkan kualitas audio. Normalisasi meningkatkan amplitudo bass yang mungkin lebih rendah dari yang diinginkan, sehingga lebih mudah didengar dan seimbang dengan biola. Hal yang sama dilakukan untuk biola, memastikan amplitudo sinyal biola tidak terlalu lemah atau keras, memberikan kualitas audio yang lebih baik dan lebih seimbang.\n",
    "\n",
    "3. **Perbandingan Sinyal Sebelum dan Sesudah Treatment**\n",
    "- Sebelum dilakukan filtering sinyal campuran adalah gabungan dari bass dan biola yang memiliki frekuensi yang sangat berbeda. Bentuk gelombangnya lebih rumit dan mengandung informasi dari kedua instrumen.\n",
    "Setelah filtering sinyal bass dan biola sudah dipisahkan dengan jelas. Sinyal bass hanya berisi frekuensi rendah, sementara sinyal biola berisi frekuensi tinggi. Namun, tanpa normalisasi, amplitudo sinyal ini bisa sangat bervariasi dan kurang optimal untuk pendengaran.\n",
    "- Setelah normalisasi setelah normalisasi, amplitudo sinyal bass dan biola disesuaikan agar lebih konsisten dan berada dalam rentang yang dapat diterima tanpa distorsi. Kedua sinyal, bass dan biola, akan lebih mudah didengar dan lebih seimbang, memberikan kualitas audio yang lebih baik.\n"
   ]
  },
  {
   "cell_type": "code",
   "execution_count": null,
   "metadata": {
    "id": "feFInko20j1a",
    "outputId": "f5af4e1c-06ea-4d23-d686-4df896dbb5b7"
   },
   "outputs": [],
   "source": [
    "# Fungsi untuk transformasi dan plot FFT\n",
    "def plot_fft(audio_signal, sr, label, color):\n",
    "    N = len(audio_signal)  # panjang sinyal\n",
    "    yf = fft(audio_signal)  # FFT\n",
    "    xf = np.fft.fftfreq(N, 1 / sr)  # Frekuensi terkait dengan setiap titik FFT\n",
    "\n",
    "    # Plot hanya untuk frekuensi positif\n",
    "    plt.plot(xf[:N // 2], 2.0 / N * np.abs(yf[:N // 2]), label=label, color=color)\n",
    "\n",
    "# Visualisasi Spektrum Frekuensi menggunakan FFT\n",
    "plt.figure(figsize=(12, 6))\n",
    "\n",
    "# Plot FFT untuk audio asli, bass, dan violin setelah normalisasi\n",
    "plot_fft(audio, sr, label=\"Sebelum Treatment\", color='blue')\n",
    "plot_fft(bass_normalized, sr, label=\"Bass (Setelah Treatment)\", color='red')\n",
    "plot_fft(violin_normalized, sr, label=\"Violin (Setelah Treatment)\", color='green')\n",
    "\n",
    "# Menambahkan label, judul, dan grid\n",
    "plt.title(\"Spektrum Frekuensi Sinyal Audio (FFT)\")\n",
    "plt.xlabel(\"Frekuensi (Hz)\")\n",
    "plt.ylabel(\"Amplitudo\")\n",
    "plt.legend()\n",
    "plt.grid(True)\n",
    "plt.tight_layout()\n",
    "plt.show()"
   ]
  },
  {
   "cell_type": "markdown",
   "metadata": {
    "id": "ypOtWBXI0j1b"
   },
   "source": [
    "Grafik di atas memberikan representasi tentang bagaimana frekuensi sinyal audio dapat dimodifikasi dan dipisahkan melalui proses filtering dan normalisasi. Garis biru, yang mencerminkan sinyal campuran asli, menunjukkan sinyal gabungan double bass dan biola, di mana frekuensi rendah dan tinggi saling bertumpuk, menciptakan sebuah spektrum yang penuh. Setelah dilakukan filtering, garis merah yang mewakili double bass menunjukkan pengurangan signifikan pada frekuensi tinggi, meninggalkan hanya frekuensi rendah yang relevan, yang mencirikan nada-nada mendalam dan berat dari instrumen tersebut. Di sisi lain, garis hijau yang menunjukkan hasil filtering biola memperlihatkan dominasi frekuensi tinggi, mencerminkan karakteristik suara biola yang tajam, jernih, dan melengking.\n",
    "\n",
    "Selain filtering, proses normalisasi turut memastikan bahwa hasil sinyal tetap memiliki level amplitudo yang konsisten, meskipun telah terjadi penghilangan komponen frekuensi tertentu. Hal ini penting untuk menjaga kualitas audio sehingga output tetap terdengar alami dan tidak terlalu lemah atau terlalu keras. Visualisasi ini tidak hanya menegaskan keberhasilan proses filtering, tetapi juga memberikan wawasan tentang peran penting normalisasi dalam memastikan sinyal yang telah difilter tetap optimal untuk didengarkan atau dianalisis lebih lanjut."
   ]
  },
  {
   "cell_type": "markdown",
   "metadata": {
    "id": "RhAwsnnz1l7x"
   },
   "source": [
    "# **Kesimpulan**"
   ]
  },
  {
   "cell_type": "markdown",
   "metadata": {
    "id": "aCRMb-9Z0j1b"
   },
   "source": [
    "## Hasil Akhir Proyek"
   ]
  },
  {
   "cell_type": "code",
   "execution_count": null,
   "metadata": {
    "id": "KRG9lwHn0j1b",
    "outputId": "24015c67-266d-46a4-9230-10cd70590998"
   },
   "outputs": [],
   "source": [
    "from IPython.display import Audio, display\n",
    "\n",
    "# Path ke file audio\n",
    "\n",
    "file_audio_asli = 'falling.mp3'\n",
    "file_hasil_bass = 'bass_norm.wav'\n",
    "file_hasil_biola = 'violin_norm.wav'\n",
    "# Membuat objek Audio untuk masing-masing file\n",
    "audio_1 = Audio(file_audio_asli)\n",
    "audio_2 = Audio(file_hasil_bass)\n",
    "audio_3 = Audio(file_hasil_biola)\n",
    "\n",
    "# Menampilkan pemutar audio untuk kedua file\n",
    "display(audio_1)\n",
    "display(audio_2)\n",
    "display(audio_3)"
   ]
  },
  {
   "cell_type": "markdown",
   "metadata": {
    "id": "bL22uaO81pkD"
   },
   "source": [
    "```\n",
    "Tuliskan kesimpulan di sini (3 - 5 kalimat)\n",
    "```\n",
    "\n",
    "Proses pemisahan suara double bass dan biola dari sinyal campuran berhasil dilakukan melalui langkah-langkah terstruktur. Akuisisi data memastikan sinyal siap diolah, sementara visualisasi domain waktu dan frekuensi membantu memahami karakteristik awal sinyal sehingga memudahkan dalam pengolahannya. Filtering dengan teknik Butterworth filter dimana kami menggunakan Lowpass dan highpass filter dan normalisasi yang tujuannya memisahkan jenis instrumen berdasarkan frekuensi dengan efektif, diikuti ekstraksi fitur seperti Zero Crossing Rate dan Spectral Centroid untuk analisis mendalam. Signal-to-Noise Ratio (SNR) menunjukkan peningkatan kejelasan sinyal setelah filtering, mempertegas efektivitas proses pra-pemrosesan. Secara keseluruhan, proses ini tidak hanya menghasilkan sinyal yang terpisah dengan baik tetapi juga memungkinkan analisis lanjutan terhadap karakteristik kedua instrumen.\n",
    "\n",
    "\n"
   ]
  }
 ],
 "metadata": {
  "colab": {
   "provenance": []
  },
  "kernelspec": {
   "display_name": "Python 3",
   "name": "python3"
  },
  "language_info": {
   "codemirror_mode": {
    "name": "ipython",
    "version": 3
   },
   "file_extension": ".py",
   "mimetype": "text/x-python",
   "name": "python",
   "nbconvert_exporter": "python",
   "pygments_lexer": "ipython3",
   "version": "3.11.4"
  }
 },
 "nbformat": 4,
 "nbformat_minor": 0
}
